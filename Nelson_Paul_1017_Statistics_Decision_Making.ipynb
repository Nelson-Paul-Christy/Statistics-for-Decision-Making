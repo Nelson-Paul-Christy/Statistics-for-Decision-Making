{
 "cells": [
  {
   "cell_type": "markdown",
   "id": "cd396346-285d-4a43-945b-5f7f38242675",
   "metadata": {},
   "source": [
    "## <span style=\"background-color: lightgreen\">STATISTICS DECISION MAKING - NELSON_CHRISTY_1017\n",
    "### <span style=\"background-color: yellow\"> Importing pandas library\n",
    "### <span style=\"background-color: yellow\"> reading our property csv data"
   ]
  },
  {
   "cell_type": "code",
   "execution_count": 1,
   "id": "61e33202-986f-4a21-b532-830537967d70",
   "metadata": {},
   "outputs": [],
   "source": [
    "import pandas as pd\n",
    "import numpy as np"
   ]
  },
  {
   "cell_type": "code",
   "execution_count": 2,
   "id": "99c4121d-9c69-45b9-aba7-895adb195c56",
   "metadata": {},
   "outputs": [],
   "source": [
    "df = pd.read_csv(r\"E:\\ABADS\\Assignments\\Python Statistical Analysis\\property.csv\")"
   ]
  },
  {
   "cell_type": "code",
   "execution_count": 3,
   "id": "a01e94f1-5b89-4fc2-a7d3-473aa404ee42",
   "metadata": {},
   "outputs": [
    {
     "data": {
      "text/html": [
       "<div>\n",
       "<style scoped>\n",
       "    .dataframe tbody tr th:only-of-type {\n",
       "        vertical-align: middle;\n",
       "    }\n",
       "\n",
       "    .dataframe tbody tr th {\n",
       "        vertical-align: top;\n",
       "    }\n",
       "\n",
       "    .dataframe thead th {\n",
       "        text-align: right;\n",
       "    }\n",
       "</style>\n",
       "<table border=\"1\" class=\"dataframe\">\n",
       "  <thead>\n",
       "    <tr style=\"text-align: right;\">\n",
       "      <th></th>\n",
       "      <th>Suburb</th>\n",
       "      <th>Address</th>\n",
       "      <th>Rooms</th>\n",
       "      <th>Type</th>\n",
       "      <th>Price</th>\n",
       "      <th>Method</th>\n",
       "      <th>SellerG</th>\n",
       "      <th>Date</th>\n",
       "      <th>Distance</th>\n",
       "      <th>Postcode</th>\n",
       "      <th>...</th>\n",
       "      <th>Bathroom</th>\n",
       "      <th>Car</th>\n",
       "      <th>Landsize</th>\n",
       "      <th>BuildingArea</th>\n",
       "      <th>YearBuilt</th>\n",
       "      <th>CouncilArea</th>\n",
       "      <th>Lattitude</th>\n",
       "      <th>Longtitude</th>\n",
       "      <th>Regionname</th>\n",
       "      <th>Propertycount</th>\n",
       "    </tr>\n",
       "  </thead>\n",
       "  <tbody>\n",
       "    <tr>\n",
       "      <th>13575</th>\n",
       "      <td>Wheelers Hill</td>\n",
       "      <td>12 Strada Cr</td>\n",
       "      <td>4</td>\n",
       "      <td>h</td>\n",
       "      <td>1245000.0</td>\n",
       "      <td>S</td>\n",
       "      <td>Barry</td>\n",
       "      <td>26/08/2017</td>\n",
       "      <td>16.7</td>\n",
       "      <td>3150.0</td>\n",
       "      <td>...</td>\n",
       "      <td>2.0</td>\n",
       "      <td>2.0</td>\n",
       "      <td>652.0</td>\n",
       "      <td>NaN</td>\n",
       "      <td>1981.0</td>\n",
       "      <td>NaN</td>\n",
       "      <td>-37.90562</td>\n",
       "      <td>145.16761</td>\n",
       "      <td>South-Eastern Metropolitan</td>\n",
       "      <td>7392.0</td>\n",
       "    </tr>\n",
       "    <tr>\n",
       "      <th>13576</th>\n",
       "      <td>Williamstown</td>\n",
       "      <td>77 Merrett Dr</td>\n",
       "      <td>3</td>\n",
       "      <td>h</td>\n",
       "      <td>1031000.0</td>\n",
       "      <td>SP</td>\n",
       "      <td>Williams</td>\n",
       "      <td>26/08/2017</td>\n",
       "      <td>6.8</td>\n",
       "      <td>3016.0</td>\n",
       "      <td>...</td>\n",
       "      <td>2.0</td>\n",
       "      <td>2.0</td>\n",
       "      <td>333.0</td>\n",
       "      <td>133.0</td>\n",
       "      <td>1995.0</td>\n",
       "      <td>NaN</td>\n",
       "      <td>-37.85927</td>\n",
       "      <td>144.87904</td>\n",
       "      <td>Western Metropolitan</td>\n",
       "      <td>6380.0</td>\n",
       "    </tr>\n",
       "    <tr>\n",
       "      <th>13577</th>\n",
       "      <td>Williamstown</td>\n",
       "      <td>83 Power St</td>\n",
       "      <td>3</td>\n",
       "      <td>h</td>\n",
       "      <td>1170000.0</td>\n",
       "      <td>S</td>\n",
       "      <td>Raine</td>\n",
       "      <td>26/08/2017</td>\n",
       "      <td>6.8</td>\n",
       "      <td>3016.0</td>\n",
       "      <td>...</td>\n",
       "      <td>2.0</td>\n",
       "      <td>4.0</td>\n",
       "      <td>436.0</td>\n",
       "      <td>NaN</td>\n",
       "      <td>1997.0</td>\n",
       "      <td>NaN</td>\n",
       "      <td>-37.85274</td>\n",
       "      <td>144.88738</td>\n",
       "      <td>Western Metropolitan</td>\n",
       "      <td>6380.0</td>\n",
       "    </tr>\n",
       "    <tr>\n",
       "      <th>13578</th>\n",
       "      <td>Williamstown</td>\n",
       "      <td>96 Verdon St</td>\n",
       "      <td>4</td>\n",
       "      <td>h</td>\n",
       "      <td>2500000.0</td>\n",
       "      <td>PI</td>\n",
       "      <td>Sweeney</td>\n",
       "      <td>26/08/2017</td>\n",
       "      <td>6.8</td>\n",
       "      <td>3016.0</td>\n",
       "      <td>...</td>\n",
       "      <td>1.0</td>\n",
       "      <td>5.0</td>\n",
       "      <td>866.0</td>\n",
       "      <td>157.0</td>\n",
       "      <td>1920.0</td>\n",
       "      <td>NaN</td>\n",
       "      <td>-37.85908</td>\n",
       "      <td>144.89299</td>\n",
       "      <td>Western Metropolitan</td>\n",
       "      <td>6380.0</td>\n",
       "    </tr>\n",
       "    <tr>\n",
       "      <th>13579</th>\n",
       "      <td>Yarraville</td>\n",
       "      <td>6 Agnes St</td>\n",
       "      <td>4</td>\n",
       "      <td>h</td>\n",
       "      <td>1285000.0</td>\n",
       "      <td>SP</td>\n",
       "      <td>Village</td>\n",
       "      <td>26/08/2017</td>\n",
       "      <td>6.3</td>\n",
       "      <td>3013.0</td>\n",
       "      <td>...</td>\n",
       "      <td>1.0</td>\n",
       "      <td>1.0</td>\n",
       "      <td>362.0</td>\n",
       "      <td>112.0</td>\n",
       "      <td>1920.0</td>\n",
       "      <td>NaN</td>\n",
       "      <td>-37.81188</td>\n",
       "      <td>144.88449</td>\n",
       "      <td>Western Metropolitan</td>\n",
       "      <td>6543.0</td>\n",
       "    </tr>\n",
       "  </tbody>\n",
       "</table>\n",
       "<p>5 rows × 21 columns</p>\n",
       "</div>"
      ],
      "text/plain": [
       "              Suburb        Address  Rooms Type      Price Method   SellerG  \\\n",
       "13575  Wheelers Hill   12 Strada Cr      4    h  1245000.0      S     Barry   \n",
       "13576   Williamstown  77 Merrett Dr      3    h  1031000.0     SP  Williams   \n",
       "13577   Williamstown    83 Power St      3    h  1170000.0      S     Raine   \n",
       "13578   Williamstown   96 Verdon St      4    h  2500000.0     PI   Sweeney   \n",
       "13579     Yarraville     6 Agnes St      4    h  1285000.0     SP   Village   \n",
       "\n",
       "             Date  Distance  Postcode  ...  Bathroom  Car  Landsize  \\\n",
       "13575  26/08/2017      16.7    3150.0  ...       2.0  2.0     652.0   \n",
       "13576  26/08/2017       6.8    3016.0  ...       2.0  2.0     333.0   \n",
       "13577  26/08/2017       6.8    3016.0  ...       2.0  4.0     436.0   \n",
       "13578  26/08/2017       6.8    3016.0  ...       1.0  5.0     866.0   \n",
       "13579  26/08/2017       6.3    3013.0  ...       1.0  1.0     362.0   \n",
       "\n",
       "       BuildingArea  YearBuilt  CouncilArea Lattitude  Longtitude  \\\n",
       "13575           NaN     1981.0          NaN -37.90562   145.16761   \n",
       "13576         133.0     1995.0          NaN -37.85927   144.87904   \n",
       "13577           NaN     1997.0          NaN -37.85274   144.88738   \n",
       "13578         157.0     1920.0          NaN -37.85908   144.89299   \n",
       "13579         112.0     1920.0          NaN -37.81188   144.88449   \n",
       "\n",
       "                       Regionname Propertycount  \n",
       "13575  South-Eastern Metropolitan        7392.0  \n",
       "13576        Western Metropolitan        6380.0  \n",
       "13577        Western Metropolitan        6380.0  \n",
       "13578        Western Metropolitan        6380.0  \n",
       "13579        Western Metropolitan        6543.0  \n",
       "\n",
       "[5 rows x 21 columns]"
      ]
     },
     "execution_count": 3,
     "metadata": {},
     "output_type": "execute_result"
    }
   ],
   "source": [
    "# EDA\n",
    "df.tail()"
   ]
  },
  {
   "cell_type": "code",
   "execution_count": 6,
   "id": "fe39397e-a331-4f32-8a59-2422652c09c2",
   "metadata": {},
   "outputs": [],
   "source": [
    "df['Date'] = pd.to_datetime(df['Date'], format='%d/%m/%Y', errors='coerce')"
   ]
  },
  {
   "cell_type": "code",
   "execution_count": 9,
   "id": "bc8ab73b-1761-49dd-ac71-0e0065e4443e",
   "metadata": {},
   "outputs": [
    {
     "name": "stdout",
     "output_type": "stream",
     "text": [
      "0       2016-12-03\n",
      "1       2016-02-04\n",
      "2       2017-03-04\n",
      "3       2017-03-04\n",
      "4       2016-06-04\n",
      "           ...    \n",
      "13575   2017-08-26\n",
      "13576   2017-08-26\n",
      "13577   2017-08-26\n",
      "13578   2017-08-26\n",
      "13579   2017-08-26\n",
      "Name: Date, Length: 13580, dtype: datetime64[ns]\n"
     ]
    }
   ],
   "source": [
    "print(df['Date'])"
   ]
  },
  {
   "cell_type": "code",
   "execution_count": 11,
   "id": "6898aeb5-e4b5-4b2c-8184-1dbe1249853d",
   "metadata": {},
   "outputs": [
    {
     "name": "stdout",
     "output_type": "stream",
     "text": [
      "<class 'pandas.core.frame.DataFrame'>\n",
      "RangeIndex: 13580 entries, 0 to 13579\n",
      "Data columns (total 21 columns):\n",
      " #   Column         Non-Null Count  Dtype         \n",
      "---  ------         --------------  -----         \n",
      " 0   Suburb         13580 non-null  object        \n",
      " 1   Address        13580 non-null  object        \n",
      " 2   Rooms          13580 non-null  int64         \n",
      " 3   Type           13580 non-null  object        \n",
      " 4   Price          13580 non-null  float64       \n",
      " 5   Method         13580 non-null  object        \n",
      " 6   SellerG        13580 non-null  object        \n",
      " 7   Date           13580 non-null  datetime64[ns]\n",
      " 8   Distance       13580 non-null  float64       \n",
      " 9   Postcode       13580 non-null  float64       \n",
      " 10  Bedroom2       13580 non-null  float64       \n",
      " 11  Bathroom       13580 non-null  float64       \n",
      " 12  Car            13518 non-null  float64       \n",
      " 13  Landsize       13580 non-null  float64       \n",
      " 14  BuildingArea   7130 non-null   float64       \n",
      " 15  YearBuilt      8205 non-null   float64       \n",
      " 16  CouncilArea    12211 non-null  object        \n",
      " 17  Lattitude      13580 non-null  float64       \n",
      " 18  Longtitude     13580 non-null  float64       \n",
      " 19  Regionname     13580 non-null  object        \n",
      " 20  Propertycount  13580 non-null  float64       \n",
      "dtypes: datetime64[ns](1), float64(12), int64(1), object(7)\n",
      "memory usage: 2.2+ MB\n"
     ]
    }
   ],
   "source": [
    "# Check column names and data types\n",
    "df.info()"
   ]
  },
  {
   "cell_type": "code",
   "execution_count": 13,
   "id": "22d24af2-506a-4288-86b4-49e612f9009f",
   "metadata": {},
   "outputs": [
    {
     "data": {
      "text/html": [
       "<div>\n",
       "<style scoped>\n",
       "    .dataframe tbody tr th:only-of-type {\n",
       "        vertical-align: middle;\n",
       "    }\n",
       "\n",
       "    .dataframe tbody tr th {\n",
       "        vertical-align: top;\n",
       "    }\n",
       "\n",
       "    .dataframe thead th {\n",
       "        text-align: right;\n",
       "    }\n",
       "</style>\n",
       "<table border=\"1\" class=\"dataframe\">\n",
       "  <thead>\n",
       "    <tr style=\"text-align: right;\">\n",
       "      <th></th>\n",
       "      <th>Rooms</th>\n",
       "      <th>Price</th>\n",
       "      <th>Date</th>\n",
       "      <th>Distance</th>\n",
       "      <th>Postcode</th>\n",
       "      <th>Bedroom2</th>\n",
       "      <th>Bathroom</th>\n",
       "      <th>Car</th>\n",
       "      <th>Landsize</th>\n",
       "      <th>BuildingArea</th>\n",
       "      <th>YearBuilt</th>\n",
       "      <th>Lattitude</th>\n",
       "      <th>Longtitude</th>\n",
       "      <th>Propertycount</th>\n",
       "    </tr>\n",
       "  </thead>\n",
       "  <tbody>\n",
       "    <tr>\n",
       "      <th>count</th>\n",
       "      <td>13580.000000</td>\n",
       "      <td>1.358000e+04</td>\n",
       "      <td>13580</td>\n",
       "      <td>13580.000000</td>\n",
       "      <td>13580.000000</td>\n",
       "      <td>13580.000000</td>\n",
       "      <td>13580.000000</td>\n",
       "      <td>13518.000000</td>\n",
       "      <td>13580.000000</td>\n",
       "      <td>7130.000000</td>\n",
       "      <td>8205.000000</td>\n",
       "      <td>13580.000000</td>\n",
       "      <td>13580.000000</td>\n",
       "      <td>13580.000000</td>\n",
       "    </tr>\n",
       "    <tr>\n",
       "      <th>mean</th>\n",
       "      <td>2.937997</td>\n",
       "      <td>1.075684e+06</td>\n",
       "      <td>2017-01-28 20:25:03.622974976</td>\n",
       "      <td>10.137776</td>\n",
       "      <td>3105.301915</td>\n",
       "      <td>2.914728</td>\n",
       "      <td>1.534242</td>\n",
       "      <td>1.610075</td>\n",
       "      <td>558.416127</td>\n",
       "      <td>151.967650</td>\n",
       "      <td>1964.684217</td>\n",
       "      <td>-37.809203</td>\n",
       "      <td>144.995216</td>\n",
       "      <td>7454.417378</td>\n",
       "    </tr>\n",
       "    <tr>\n",
       "      <th>min</th>\n",
       "      <td>1.000000</td>\n",
       "      <td>8.500000e+04</td>\n",
       "      <td>2016-01-28 00:00:00</td>\n",
       "      <td>0.000000</td>\n",
       "      <td>3000.000000</td>\n",
       "      <td>0.000000</td>\n",
       "      <td>0.000000</td>\n",
       "      <td>0.000000</td>\n",
       "      <td>0.000000</td>\n",
       "      <td>0.000000</td>\n",
       "      <td>1196.000000</td>\n",
       "      <td>-38.182550</td>\n",
       "      <td>144.431810</td>\n",
       "      <td>249.000000</td>\n",
       "    </tr>\n",
       "    <tr>\n",
       "      <th>25%</th>\n",
       "      <td>2.000000</td>\n",
       "      <td>6.500000e+05</td>\n",
       "      <td>2016-09-10 00:00:00</td>\n",
       "      <td>6.100000</td>\n",
       "      <td>3044.000000</td>\n",
       "      <td>2.000000</td>\n",
       "      <td>1.000000</td>\n",
       "      <td>1.000000</td>\n",
       "      <td>177.000000</td>\n",
       "      <td>93.000000</td>\n",
       "      <td>1940.000000</td>\n",
       "      <td>-37.856822</td>\n",
       "      <td>144.929600</td>\n",
       "      <td>4380.000000</td>\n",
       "    </tr>\n",
       "    <tr>\n",
       "      <th>50%</th>\n",
       "      <td>3.000000</td>\n",
       "      <td>9.030000e+05</td>\n",
       "      <td>2017-03-04 00:00:00</td>\n",
       "      <td>9.200000</td>\n",
       "      <td>3084.000000</td>\n",
       "      <td>3.000000</td>\n",
       "      <td>1.000000</td>\n",
       "      <td>2.000000</td>\n",
       "      <td>440.000000</td>\n",
       "      <td>126.000000</td>\n",
       "      <td>1970.000000</td>\n",
       "      <td>-37.802355</td>\n",
       "      <td>145.000100</td>\n",
       "      <td>6555.000000</td>\n",
       "    </tr>\n",
       "    <tr>\n",
       "      <th>75%</th>\n",
       "      <td>3.000000</td>\n",
       "      <td>1.330000e+06</td>\n",
       "      <td>2017-06-24 00:00:00</td>\n",
       "      <td>13.000000</td>\n",
       "      <td>3148.000000</td>\n",
       "      <td>3.000000</td>\n",
       "      <td>2.000000</td>\n",
       "      <td>2.000000</td>\n",
       "      <td>651.000000</td>\n",
       "      <td>174.000000</td>\n",
       "      <td>1999.000000</td>\n",
       "      <td>-37.756400</td>\n",
       "      <td>145.058305</td>\n",
       "      <td>10331.000000</td>\n",
       "    </tr>\n",
       "    <tr>\n",
       "      <th>max</th>\n",
       "      <td>10.000000</td>\n",
       "      <td>9.000000e+06</td>\n",
       "      <td>2017-09-23 00:00:00</td>\n",
       "      <td>48.100000</td>\n",
       "      <td>3977.000000</td>\n",
       "      <td>20.000000</td>\n",
       "      <td>8.000000</td>\n",
       "      <td>10.000000</td>\n",
       "      <td>433014.000000</td>\n",
       "      <td>44515.000000</td>\n",
       "      <td>2018.000000</td>\n",
       "      <td>-37.408530</td>\n",
       "      <td>145.526350</td>\n",
       "      <td>21650.000000</td>\n",
       "    </tr>\n",
       "    <tr>\n",
       "      <th>std</th>\n",
       "      <td>0.955748</td>\n",
       "      <td>6.393107e+05</td>\n",
       "      <td>NaN</td>\n",
       "      <td>5.868725</td>\n",
       "      <td>90.676964</td>\n",
       "      <td>0.965921</td>\n",
       "      <td>0.691712</td>\n",
       "      <td>0.962634</td>\n",
       "      <td>3990.669241</td>\n",
       "      <td>541.014538</td>\n",
       "      <td>37.273762</td>\n",
       "      <td>0.079260</td>\n",
       "      <td>0.103916</td>\n",
       "      <td>4378.581772</td>\n",
       "    </tr>\n",
       "  </tbody>\n",
       "</table>\n",
       "</div>"
      ],
      "text/plain": [
       "              Rooms         Price                           Date  \\\n",
       "count  13580.000000  1.358000e+04                          13580   \n",
       "mean       2.937997  1.075684e+06  2017-01-28 20:25:03.622974976   \n",
       "min        1.000000  8.500000e+04            2016-01-28 00:00:00   \n",
       "25%        2.000000  6.500000e+05            2016-09-10 00:00:00   \n",
       "50%        3.000000  9.030000e+05            2017-03-04 00:00:00   \n",
       "75%        3.000000  1.330000e+06            2017-06-24 00:00:00   \n",
       "max       10.000000  9.000000e+06            2017-09-23 00:00:00   \n",
       "std        0.955748  6.393107e+05                            NaN   \n",
       "\n",
       "           Distance      Postcode      Bedroom2      Bathroom           Car  \\\n",
       "count  13580.000000  13580.000000  13580.000000  13580.000000  13518.000000   \n",
       "mean      10.137776   3105.301915      2.914728      1.534242      1.610075   \n",
       "min        0.000000   3000.000000      0.000000      0.000000      0.000000   \n",
       "25%        6.100000   3044.000000      2.000000      1.000000      1.000000   \n",
       "50%        9.200000   3084.000000      3.000000      1.000000      2.000000   \n",
       "75%       13.000000   3148.000000      3.000000      2.000000      2.000000   \n",
       "max       48.100000   3977.000000     20.000000      8.000000     10.000000   \n",
       "std        5.868725     90.676964      0.965921      0.691712      0.962634   \n",
       "\n",
       "            Landsize  BuildingArea    YearBuilt     Lattitude    Longtitude  \\\n",
       "count   13580.000000   7130.000000  8205.000000  13580.000000  13580.000000   \n",
       "mean      558.416127    151.967650  1964.684217    -37.809203    144.995216   \n",
       "min         0.000000      0.000000  1196.000000    -38.182550    144.431810   \n",
       "25%       177.000000     93.000000  1940.000000    -37.856822    144.929600   \n",
       "50%       440.000000    126.000000  1970.000000    -37.802355    145.000100   \n",
       "75%       651.000000    174.000000  1999.000000    -37.756400    145.058305   \n",
       "max    433014.000000  44515.000000  2018.000000    -37.408530    145.526350   \n",
       "std      3990.669241    541.014538    37.273762      0.079260      0.103916   \n",
       "\n",
       "       Propertycount  \n",
       "count   13580.000000  \n",
       "mean     7454.417378  \n",
       "min       249.000000  \n",
       "25%      4380.000000  \n",
       "50%      6555.000000  \n",
       "75%     10331.000000  \n",
       "max     21650.000000  \n",
       "std      4378.581772  "
      ]
     },
     "execution_count": 13,
     "metadata": {},
     "output_type": "execute_result"
    }
   ],
   "source": [
    "# # Summary statistics\n",
    "df.describe()\n"
   ]
  },
  {
   "cell_type": "markdown",
   "id": "ef972a64-ac57-465f-b4ee-1504f420ee95",
   "metadata": {},
   "source": [
    "<span style=\"background-color: yellow\"> <b>Question :</b> 1. For the suburb of Altona, it is postulated that a typical property sells for $ 800,000.<br> Use the data at hand to test this assumption. Is the typical property price really 800,000 or has it increased? <br>Use a significance level of 5%. </span>\n",
    "\n"
   ]
  },
  {
   "cell_type": "markdown",
   "id": "66e094e3-d72f-4acd-bba9-f5ad7f879a4f",
   "metadata": {},
   "source": [
    "<span style=\"background-color: yellow\"> <b> Solution :</b> </span>\n",
    "### Step 1: Defining our Hypotheses\n",
    "#### Null Hypothesis (H₀): The mean property price in Altona is $800,000\".\n",
    "#### Alternative Hypothesis (H₁): The mean property price in Altona is greater than 800,000.\n",
    "### This is a one-tailed t-test.\n"
   ]
  },
  {
   "cell_type": "code",
   "execution_count": 16,
   "id": "a1813266-e123-4f79-8336-67d7892a07e8",
   "metadata": {},
   "outputs": [],
   "source": [
    "# Filtering my df data for \"Altona\" suburb\n",
    "altona_df = df[df['Suburb'] == 'Altona']"
   ]
  },
  {
   "cell_type": "code",
   "execution_count": 18,
   "id": "39b26e31-3848-4f58-a4c0-c31d5be55e1d",
   "metadata": {},
   "outputs": [
    {
     "data": {
      "text/html": [
       "<div>\n",
       "<style scoped>\n",
       "    .dataframe tbody tr th:only-of-type {\n",
       "        vertical-align: middle;\n",
       "    }\n",
       "\n",
       "    .dataframe tbody tr th {\n",
       "        vertical-align: top;\n",
       "    }\n",
       "\n",
       "    .dataframe thead th {\n",
       "        text-align: right;\n",
       "    }\n",
       "</style>\n",
       "<table border=\"1\" class=\"dataframe\">\n",
       "  <thead>\n",
       "    <tr style=\"text-align: right;\">\n",
       "      <th></th>\n",
       "      <th>Suburb</th>\n",
       "      <th>Address</th>\n",
       "      <th>Rooms</th>\n",
       "      <th>Type</th>\n",
       "      <th>Price</th>\n",
       "      <th>Method</th>\n",
       "      <th>SellerG</th>\n",
       "      <th>Date</th>\n",
       "      <th>Distance</th>\n",
       "      <th>Postcode</th>\n",
       "      <th>...</th>\n",
       "      <th>Bathroom</th>\n",
       "      <th>Car</th>\n",
       "      <th>Landsize</th>\n",
       "      <th>BuildingArea</th>\n",
       "      <th>YearBuilt</th>\n",
       "      <th>CouncilArea</th>\n",
       "      <th>Lattitude</th>\n",
       "      <th>Longtitude</th>\n",
       "      <th>Regionname</th>\n",
       "      <th>Propertycount</th>\n",
       "    </tr>\n",
       "  </thead>\n",
       "  <tbody>\n",
       "    <tr>\n",
       "      <th>141</th>\n",
       "      <td>Altona</td>\n",
       "      <td>158 Queen St</td>\n",
       "      <td>3</td>\n",
       "      <td>h</td>\n",
       "      <td>520000.0</td>\n",
       "      <td>VB</td>\n",
       "      <td>Greg</td>\n",
       "      <td>2016-09-03</td>\n",
       "      <td>13.8</td>\n",
       "      <td>3018.0</td>\n",
       "      <td>...</td>\n",
       "      <td>2.0</td>\n",
       "      <td>1.0</td>\n",
       "      <td>352.0</td>\n",
       "      <td>242.0</td>\n",
       "      <td>2015.0</td>\n",
       "      <td>Hobsons Bay</td>\n",
       "      <td>-37.8700</td>\n",
       "      <td>144.8250</td>\n",
       "      <td>Western Metropolitan</td>\n",
       "      <td>5301.0</td>\n",
       "    </tr>\n",
       "    <tr>\n",
       "      <th>142</th>\n",
       "      <td>Altona</td>\n",
       "      <td>59 Bracken Gr</td>\n",
       "      <td>5</td>\n",
       "      <td>h</td>\n",
       "      <td>1525000.0</td>\n",
       "      <td>S</td>\n",
       "      <td>Greg</td>\n",
       "      <td>2016-12-03</td>\n",
       "      <td>13.8</td>\n",
       "      <td>3018.0</td>\n",
       "      <td>...</td>\n",
       "      <td>3.0</td>\n",
       "      <td>3.0</td>\n",
       "      <td>729.0</td>\n",
       "      <td>268.0</td>\n",
       "      <td>2005.0</td>\n",
       "      <td>Hobsons Bay</td>\n",
       "      <td>-37.8721</td>\n",
       "      <td>144.8105</td>\n",
       "      <td>Western Metropolitan</td>\n",
       "      <td>5301.0</td>\n",
       "    </tr>\n",
       "    <tr>\n",
       "      <th>143</th>\n",
       "      <td>Altona</td>\n",
       "      <td>1/123 Blyth St</td>\n",
       "      <td>2</td>\n",
       "      <td>t</td>\n",
       "      <td>720000.0</td>\n",
       "      <td>S</td>\n",
       "      <td>hockingstuart</td>\n",
       "      <td>2016-02-04</td>\n",
       "      <td>13.8</td>\n",
       "      <td>3018.0</td>\n",
       "      <td>...</td>\n",
       "      <td>1.0</td>\n",
       "      <td>2.0</td>\n",
       "      <td>292.0</td>\n",
       "      <td>125.0</td>\n",
       "      <td>2013.0</td>\n",
       "      <td>Hobsons Bay</td>\n",
       "      <td>-37.8687</td>\n",
       "      <td>144.8197</td>\n",
       "      <td>Western Metropolitan</td>\n",
       "      <td>5301.0</td>\n",
       "    </tr>\n",
       "    <tr>\n",
       "      <th>144</th>\n",
       "      <td>Altona</td>\n",
       "      <td>4 Blyth St</td>\n",
       "      <td>3</td>\n",
       "      <td>h</td>\n",
       "      <td>1120000.0</td>\n",
       "      <td>S</td>\n",
       "      <td>Barlow</td>\n",
       "      <td>2017-03-04</td>\n",
       "      <td>13.8</td>\n",
       "      <td>3018.0</td>\n",
       "      <td>...</td>\n",
       "      <td>1.0</td>\n",
       "      <td>2.0</td>\n",
       "      <td>506.0</td>\n",
       "      <td>120.0</td>\n",
       "      <td>1930.0</td>\n",
       "      <td>Hobsons Bay</td>\n",
       "      <td>-37.8693</td>\n",
       "      <td>144.8375</td>\n",
       "      <td>Western Metropolitan</td>\n",
       "      <td>5301.0</td>\n",
       "    </tr>\n",
       "    <tr>\n",
       "      <th>145</th>\n",
       "      <td>Altona</td>\n",
       "      <td>20 Linnet St</td>\n",
       "      <td>4</td>\n",
       "      <td>h</td>\n",
       "      <td>780000.0</td>\n",
       "      <td>PI</td>\n",
       "      <td>Sweeney</td>\n",
       "      <td>2016-06-04</td>\n",
       "      <td>13.8</td>\n",
       "      <td>3018.0</td>\n",
       "      <td>...</td>\n",
       "      <td>1.0</td>\n",
       "      <td>4.0</td>\n",
       "      <td>655.0</td>\n",
       "      <td>NaN</td>\n",
       "      <td>NaN</td>\n",
       "      <td>Hobsons Bay</td>\n",
       "      <td>-37.8680</td>\n",
       "      <td>144.8154</td>\n",
       "      <td>Western Metropolitan</td>\n",
       "      <td>5301.0</td>\n",
       "    </tr>\n",
       "  </tbody>\n",
       "</table>\n",
       "<p>5 rows × 21 columns</p>\n",
       "</div>"
      ],
      "text/plain": [
       "     Suburb         Address  Rooms Type      Price Method        SellerG  \\\n",
       "141  Altona    158 Queen St      3    h   520000.0     VB           Greg   \n",
       "142  Altona   59 Bracken Gr      5    h  1525000.0      S           Greg   \n",
       "143  Altona  1/123 Blyth St      2    t   720000.0      S  hockingstuart   \n",
       "144  Altona      4 Blyth St      3    h  1120000.0      S         Barlow   \n",
       "145  Altona    20 Linnet St      4    h   780000.0     PI        Sweeney   \n",
       "\n",
       "          Date  Distance  Postcode  ...  Bathroom  Car  Landsize  \\\n",
       "141 2016-09-03      13.8    3018.0  ...       2.0  1.0     352.0   \n",
       "142 2016-12-03      13.8    3018.0  ...       3.0  3.0     729.0   \n",
       "143 2016-02-04      13.8    3018.0  ...       1.0  2.0     292.0   \n",
       "144 2017-03-04      13.8    3018.0  ...       1.0  2.0     506.0   \n",
       "145 2016-06-04      13.8    3018.0  ...       1.0  4.0     655.0   \n",
       "\n",
       "     BuildingArea  YearBuilt  CouncilArea Lattitude  Longtitude  \\\n",
       "141         242.0     2015.0  Hobsons Bay  -37.8700    144.8250   \n",
       "142         268.0     2005.0  Hobsons Bay  -37.8721    144.8105   \n",
       "143         125.0     2013.0  Hobsons Bay  -37.8687    144.8197   \n",
       "144         120.0     1930.0  Hobsons Bay  -37.8693    144.8375   \n",
       "145           NaN        NaN  Hobsons Bay  -37.8680    144.8154   \n",
       "\n",
       "               Regionname Propertycount  \n",
       "141  Western Metropolitan        5301.0  \n",
       "142  Western Metropolitan        5301.0  \n",
       "143  Western Metropolitan        5301.0  \n",
       "144  Western Metropolitan        5301.0  \n",
       "145  Western Metropolitan        5301.0  \n",
       "\n",
       "[5 rows x 21 columns]"
      ]
     },
     "execution_count": 18,
     "metadata": {},
     "output_type": "execute_result"
    }
   ],
   "source": [
    "# Subset\n",
    "altona_df.head()"
   ]
  },
  {
   "cell_type": "code",
   "execution_count": 143,
   "id": "5e8503f7-c26d-46b9-b3b6-7d771da3565c",
   "metadata": {},
   "outputs": [
    {
     "name": "stdout",
     "output_type": "stream",
     "text": [
      "<class 'pandas.core.frame.DataFrame'>\n",
      "Index: 74 entries, 141 to 13339\n",
      "Data columns (total 21 columns):\n",
      " #   Column         Non-Null Count  Dtype         \n",
      "---  ------         --------------  -----         \n",
      " 0   Suburb         74 non-null     object        \n",
      " 1   Address        74 non-null     object        \n",
      " 2   Rooms          74 non-null     int64         \n",
      " 3   Type           74 non-null     object        \n",
      " 4   Price          74 non-null     float64       \n",
      " 5   Method         74 non-null     object        \n",
      " 6   SellerG        74 non-null     object        \n",
      " 7   Date           74 non-null     datetime64[ns]\n",
      " 8   Distance       74 non-null     float64       \n",
      " 9   Postcode       74 non-null     float64       \n",
      " 10  Bedroom2       74 non-null     float64       \n",
      " 11  Bathroom       74 non-null     float64       \n",
      " 12  Car            74 non-null     float64       \n",
      " 13  Landsize       74 non-null     float64       \n",
      " 14  BuildingArea   34 non-null     float64       \n",
      " 15  YearBuilt      38 non-null     float64       \n",
      " 16  CouncilArea    69 non-null     object        \n",
      " 17  Lattitude      74 non-null     float64       \n",
      " 18  Longtitude     74 non-null     float64       \n",
      " 19  Regionname     74 non-null     object        \n",
      " 20  Propertycount  74 non-null     float64       \n",
      "dtypes: datetime64[ns](1), float64(12), int64(1), object(7)\n",
      "memory usage: 12.7+ KB\n"
     ]
    }
   ],
   "source": [
    "altona_df.info()"
   ]
  },
  {
   "cell_type": "code",
   "execution_count": 145,
   "id": "c9c48e7c-99f9-419e-94d2-47a1c6b2bffb",
   "metadata": {},
   "outputs": [
    {
     "name": "stdout",
     "output_type": "stream",
     "text": [
      "Mean price in Altona: $834,830.41\n",
      "T-statistic: 1.03\n",
      "One-tailed p-value: 0.1537\n"
     ]
    }
   ],
   "source": [
    "# Here we would be calulating the t_stat value and p_value\n",
    "\n",
    "from scipy import stats\n",
    "\n",
    "# Dropping missing or blank values in Price column\n",
    "altona_prices = altona_df['Price'].dropna()\n",
    "\n",
    "# Performing one-sample t-test on \n",
    "t_stat, p_value = stats.ttest_1samp(altona_prices, 800000)\n",
    "\n",
    "# Since it's a one-tailed test (greater than 0), divide p-value by 2\n",
    "p_value_one_tailed = p_value / 2\n",
    "\n",
    "\n",
    "\n",
    "# if t_stat is > 0, then we need to divide by p_value else 1-p_value\n",
    "\n",
    "# Print results\n",
    "print(f\"Mean price in Altona: ${altona_prices.mean():,.2f}\")\n",
    "print(f\"T-statistic: {t_stat:.2f}\")\n",
    "print(f\"One-tailed p-value: {p_value_one_tailed:.4f}\")\n"
   ]
  },
  {
   "cell_type": "code",
   "execution_count": 147,
   "id": "791080f9-f8a6-4100-bf49-ba1c728e5492",
   "metadata": {},
   "outputs": [],
   "source": [
    "# p_value_one_tailed = (1- p_value)/2\n",
    "\n",
    "# print(p_value_one_tailed,t_stat, p_value)"
   ]
  },
  {
   "cell_type": "markdown",
   "id": "310bb30d-9f0c-43f3-9928-a91a78bd7444",
   "metadata": {},
   "source": [
    "##### A - p-value of 0.1537 means there's 15.37% chance of observing a sample mean this high (or higher), assuming the true mean is $800,000.\n",
    "##### - If you're using a significance level of 0.05 (5%), this p-value is too high to reject the null hypothesis.\n",
    "##### Practically, the mean is higher—but the evidence isn’t strong enough to say it’s not just due to random variation.\n",
    "\n",
    "\n",
    "<span style=\"color: red\"> There is not enough statistical evidence to conclude that the average property price in Altona is significantly greater than $800,000 at the 5% significance level.!</span>\n",
    "\n",
    "\n"
   ]
  },
  {
   "cell_type": "code",
   "execution_count": 43,
   "id": "c626c55c-a98f-4567-bb2a-8603fb433b5e",
   "metadata": {},
   "outputs": [
    {
     "data": {
      "image/png": "[encoded data removed]",
      "text/plain": [
       "<Figure size 640x480 with 1 Axes>"
      ]
     },
     "metadata": {},
     "output_type": "display_data"
    }
   ],
   "source": [
    "import matplotlib.pyplot as plt\n",
    "import seaborn as sns\n",
    "\n",
    "sns.histplot(altona_prices, kde=True)\n",
    "plt.axvline(800000, color='red', linestyle='--', label='Hypothesized Mean ($800k)')\n",
    "plt.title('Altona Property Price Distribution')\n",
    "plt.xlabel('Price')\n",
    "plt.ylabel('Frequency')\n",
    "plt.legend()\n",
    "plt.show()"
   ]
  },
  {
   "cell_type": "markdown",
   "id": "9095938e-4458-4508-933f-3a8fc72673bd",
   "metadata": {},
   "source": [
    " ###  <span style=\"background-color: yellow\"> <b> Question :</b>2. For the year 2016, is there any difference in the prices of properties sold in the \n",
    " ###  <span style=\"background-color: yellow\"> summer months vs winter months?  Consider months from October till March\n",
    " ### <span style=\"background-color: yellow\">  as winter months and rest as summer months. Use a significance level of 5%.\n",
    "\n",
    "\n",
    "#### step 1  : - H₀ (Null): Mean prices in summer = Mean prices in winter\n",
    "####           - H₁ (Alternative): Mean prices in summer ≠ Mean prices in winter\n",
    "\n",
    "\n",
    "#### Step 2: We have 2 independent groups : Summer( 10,11,12,1,2,3) & Winter(4, 5, 6, 7, 8, 9)\n",
    "#### We would perform a 2 sample independent t - test\n",
    "#### \n",
    "Alternative Hypothesis (H₁): The mean property price in Altona is greater than 800,000.\n",
    "### This is a one-tailed t-test.\n"
   ]
  },
  {
   "cell_type": "code",
   "execution_count": 167,
   "id": "8e64f7b2-66ac-4b62-bed4-851fcfe9728a",
   "metadata": {},
   "outputs": [
    {
     "name": "stderr",
     "output_type": "stream",
     "text": [
      "C:\\Users\\ADMIN\\AppData\\Local\\Temp\\ipykernel_10380\\717943984.py:5: SettingWithCopyWarning: \n",
      "A value is trying to be set on a copy of a slice from a DataFrame.\n",
      "Try using .loc[row_indexer,col_indexer] = value instead\n",
      "\n",
      "See the caveats in the documentation: https://pandas.pydata.org/pandas-docs/stable/user_guide/indexing.html#returning-a-view-versus-a-copy\n",
      "  df_2016['Month'] = df_2016['Date'].dt.month\n"
     ]
    }
   ],
   "source": [
    "\n",
    "\n",
    "# Filter for year 2016\n",
    "df_2016 = df[df['Date'].dt.year == 2016]\n",
    "\n",
    "# Extract month\n",
    "df_2016['Month'] = df_2016['Date'].dt.month\n",
    "\n",
    "# Define seasons\n",
    "winter_months = [10, 11, 12, 1, 2, 3]\n",
    "summer_months = [4, 5, 6, 7, 8, 9]\n",
    "\n",
    "# Split prices\n",
    "winter_prices = df_2016[df_2016['Month'].isin(winter_months)]['Price'].dropna()\n",
    "summer_prices = df_2016[df_2016['Month'].isin(summer_months)]['Price'].dropna()\n"
   ]
  },
  {
   "cell_type": "code",
   "execution_count": 25,
   "id": "b412ef58-c879-4175-aa89-77495e261e00",
   "metadata": {},
   "outputs": [
    {
     "data": {
      "text/plain": [
       "0       12\n",
       "1        2\n",
       "4        6\n",
       "5        5\n",
       "6        5\n",
       "        ..\n",
       "7426     6\n",
       "7427    11\n",
       "7428     8\n",
       "7429    11\n",
       "7430     5\n",
       "Name: Month, Length: 6336, dtype: int32"
      ]
     },
     "execution_count": 25,
     "metadata": {},
     "output_type": "execute_result"
    }
   ],
   "source": [
    "df_2016['Month']"
   ]
  },
  {
   "cell_type": "code",
   "execution_count": 26,
   "id": "11bfde75-1bee-4b3b-b070-ea39cbdf7533",
   "metadata": {},
   "outputs": [
    {
     "name": "stdout",
     "output_type": "stream",
     "text": [
      "Summer mean: $1,048,054.73\n",
      "Winter mean: $1,116,647.59\n",
      "T-statistic: -3.9211\n",
      "P-value: 0.0001\n"
     ]
    }
   ],
   "source": [
    "from scipy import stats\n",
    "# Perform independent two-sample t-test\n",
    "t_stat, p_value = stats.ttest_ind(summer_prices, winter_prices, equal_var=False)\n",
    "\n",
    "# Print results\n",
    "print(f\"Summer mean: ${summer_prices.mean():,.2f}\")\n",
    "print(f\"Winter mean: ${winter_prices.mean():,.2f}\")\n",
    "print(f\"T-statistic: {t_stat:.4f}\")\n",
    "print(f\"P-value: {p_value:.4f}\")"
   ]
  },
  {
   "cell_type": "markdown",
   "id": "1750bc9d-4e16-4537-8816-08fe3ebdb2f8",
   "metadata": {},
   "source": [
    "\n",
    "##### - If p-value < 0.05 → Significant difference in prices between seasons.\n",
    "##### - If p-value ≥ 0.05 → No significant difference\n"
   ]
  },
  {
   "cell_type": "markdown",
   "id": "f3822ad1-d5f1-4b59-8a9f-a7b08468621f",
   "metadata": {},
   "source": [
    "### - The p-value (0.0001) is much smaller than 0.05.\n",
    "### - This means the difference in prices between summer and winter months is statistically significant.\n",
    "### - The negative t-statistic indicates that summer prices are lower than winter prices.\n"
   ]
  },
  {
   "cell_type": "markdown",
   "id": "b5754f48-e308-41e6-997f-c7f8b41354cb",
   "metadata": {},
   "source": [
    "### <span style=\"background-color: yellow\"> Conclusion\n",
    "### <span style=\"background-color: yellow\"> Yes, there is a significant difference in property prices between summer and winter months in 2016.\n",
    "### <span style=\"background-color: yellow\"> Winter prices were higher on average by about $68,592.86."
   ]
  },
  {
   "cell_type": "code",
   "execution_count": 34,
   "id": "ef58f3a4-0d25-4580-8d21-16e160d26330",
   "metadata": {},
   "outputs": [
    {
     "data": {
      "image/png": "[encoded data removed]",
      "text/plain": [
       "<Figure size 1200x600 with 1 Axes>"
      ]
     },
     "metadata": {},
     "output_type": "display_data"
    }
   ],
   "source": [
    "\n",
    "import matplotlib.pyplot as plt\n",
    "\n",
    "# Plot histograms\n",
    "plt.figure(figsize=(12, 6))\n",
    "plt.hist(summer_prices, bins=30, alpha=0.6, label='Summer', color='orange')\n",
    "plt.hist(winter_prices, bins=30, alpha=0.6, label='Winter', color='blue')\n",
    "plt.title('Distribution of Property Prices in 2016: Summer vs Winter')\n",
    "plt.xlabel('Price ($)')\n",
    "plt.ylabel('Number of Properties')\n",
    "plt.legend()\n",
    "plt.grid(True)\n",
    "plt.tight_layout()\n",
    "plt.show()\n"
   ]
  },
  {
   "cell_type": "markdown",
   "id": "e98269dd-8105-4763-8692-006e340f87aa",
   "metadata": {},
   "source": [
    "#### <span style=\"background-color: yellow\"> 3. For the suburb of Abbotsford, what is the probability that out of 10 properties \n",
    "#### <span style=\"background-color: yellow\"> sold, 3 will not have a car parking space? Use the column car in the dataset.\n",
    "#### <span style=\"background-color: yellow\"> Round off your answer to 3 decimal places. "
   ]
  },
  {
   "cell_type": "markdown",
   "id": "c200b8c2-a0bf-4b0a-8a0d-aed4d8122dbf",
   "metadata": {},
   "source": [
    "### <span style=\"background-color: LightGreen\">Solution\n",
    "#### let’s define:\n",
    "- n = 10 (number of trials — properties sold)\n",
    "- k = 3 (number of properties without car parking)\n",
    "- p = probability that a property does not have car parking\n",
    "- 1 - p = probability that a property does have car parking\n",
    "\n",
    "P(X = k) = \\binom{n}{k} \\cdot p^k \\cdot (1 - p)^{n - k}"
   ]
  },
  {
   "cell_type": "code",
   "execution_count": 47,
   "id": "ef852494-580b-4ae4-ab89-8517ffd22ab5",
   "metadata": {},
   "outputs": [
    {
     "name": "stdout",
     "output_type": "stream",
     "text": [
      "Estimated probability of no car space: 0.268\n"
     ]
    }
   ],
   "source": [
    "import pandas as pd\n",
    "\n",
    "# Load the dataset\n",
    "# df = pd.read_csv('property.csv')\n",
    "\n",
    "# Filter for Abbotsford\n",
    "abbotsford = df[df['Suburb'] == 'Abbotsford']\n",
    "\n",
    "# Estimate probability of no car space\n",
    "p_no_car = (abbotsford['Car'] == 0).mean()\n",
    "print(f\"Estimated probability of no car space: {p_no_car:.3f}\")"
   ]
  },
  {
   "cell_type": "code",
   "execution_count": 195,
   "id": "6caf9435-7c26-41ce-bbcf-158f93d50388",
   "metadata": {},
   "outputs": [
    {
     "name": "stdout",
     "output_type": "stream",
     "text": [
      "Probability that exactly 3 out of 10 properties have no car space: 0.260\n"
     ]
    }
   ],
   "source": [
    "# Calculating  Binomial Probability (Exactly 3 out of 10)\n",
    "# You can use scipy.stats.binom.pmf for this:\n",
    "from scipy.stats import binom\n",
    "\n",
    "# Parameters\n",
    "n = 10  # number of properties\n",
    "k = 3   # number with no car space\n",
    "p = 0.268  # estimated probability\n",
    "\n",
    "# Calculate binomial probability\n",
    "prob = binom.pmf(k, n, p)\n",
    "print(f\"Probability that exactly 3 out of 10 properties have no car space: {prob:.3f}\")\n",
    "\n"
   ]
  },
  {
   "cell_type": "markdown",
   "id": "753007db-90a3-4a65-852d-bb96d51ab735",
   "metadata": {},
   "source": [
    "#### <span style=\"background-color: yellow\"> For the suburb of Abbotsford, the probability that 3 out of 10 properties not having a car parking space is 0.260\n",
    "## Visualization"
   ]
  },
  {
   "cell_type": "code",
   "execution_count": 200,
   "id": "7ea5dabf-72ae-4ffd-bf10-11ec28286ae5",
   "metadata": {},
   "outputs": [
    {
     "data": {
      "image/png": "[encoded data removed]",
      "text/plain": [
       "<Figure size 1000x600 with 1 Axes>"
      ]
     },
     "metadata": {},
     "output_type": "display_data"
    }
   ],
   "source": [
    "\n",
    "\n",
    "import matplotlib.pyplot as plt\n",
    "from scipy.stats import binom\n",
    "\n",
    "# Parameters\n",
    "n = 10\n",
    "p = 0.268\n",
    "\n",
    "# Possible outcomes: 0 to 10 properties without car space\n",
    "x = range(n + 1)\n",
    "probabilities = [binom.pmf(k, n, p) for k in x]\n",
    "\n",
    "# Plot\n",
    "plt.figure(figsize=(10, 6))\n",
    "plt.bar(x, probabilities, color='skyblue', edgecolor='black')\n",
    "plt.title('Binomial Distribution: Properties Without Car Space (Abbotsford)')\n",
    "plt.xlabel('Number of Properties Without Car Space (out of 10)')\n",
    "plt.ylabel('Probability')\n",
    "plt.xticks(x)\n",
    "plt.grid(axis='y', linestyle='--', alpha=0.7)\n",
    "\n",
    "# Highlight the bar for k = 3\n",
    "plt.bar(3, probabilities[3], color='orange', edgecolor='black', label='P(X = 3)')\n",
    "plt.legend()\n",
    "plt.show()\n"
   ]
  },
  {
   "cell_type": "markdown",
   "id": "6a4e4fed-066b-4d52-a925-0f93e89d5c06",
   "metadata": {},
   "source": [
    "#### <span style=\"background-color: yellow\"> 4. In the suburb of Abbotsford, what are the chances of finding a property with 3 \n",
    "#### <span style=\"background-color: yellow\"> rooms? Round your answer to 3 decimal places. \n",
    "\n",
    "## Solution :\n",
    "This can be interpreted as minimum 3 rooms or exactly \n",
    "\n"
   ]
  },
  {
   "cell_type": "code",
   "execution_count": 221,
   "id": "44b759e4-841c-42c8-a939-f3b1db4652c2",
   "metadata": {},
   "outputs": [
    {
     "name": "stdout",
     "output_type": "stream",
     "text": [
      "Probability of finding a 3-room property: 0.357\n"
     ]
    }
   ],
   "source": [
    "# Filter for Abbotsford\n",
    "abbotsford = df[df['Suburb'] == 'Abbotsford']\n",
    "\n",
    "# Total properties in Abbotsford\n",
    "total_props = len(abbotsford)\n",
    "\n",
    "# Properties with 3 rooms\n",
    "three_room_props = (abbotsford['Rooms'] == 3).sum()\n",
    "\n",
    "# Calculate probability\n",
    "prob = three_room_props / total_props\n",
    "print(f\"Probability of finding a 3-room property: {prob:.3f}\")\n"
   ]
  },
  {
   "cell_type": "markdown",
   "id": "68176c3d-fc45-4d0d-9972-da5e31a60c24",
   "metadata": {},
   "source": [
    "### <span style=\"background-color: yellow\"> Solution \n",
    "## <span style=\"background-color: lightGreen\"> Probability of finding a 3-room property: 0.357\n",
    "### <span style=\"background-color: yellow\">  VISUALIZATION FOR probability of getting < 3, == 3 and > 3 rooms.\n"
   ]
  },
  {
   "cell_type": "code",
   "execution_count": 226,
   "id": "d4ce05f7-8646-4c35-99eb-0a6d868f1ba2",
   "metadata": {},
   "outputs": [
    {
     "data": {
      "image/png": "[encoded data removed]",
      "text/plain": [
       "<Figure size 600x400 with 1 Axes>"
      ]
     },
     "metadata": {},
     "output_type": "display_data"
    }
   ],
   "source": [
    "import pandas as pd\n",
    "import matplotlib.pyplot as plt\n",
    "\n",
    "\n",
    "# Count properties based on room criteria\n",
    "less_than_3 = (abbotsford['Rooms'] < 3).sum()\n",
    "equal_3 = (abbotsford['Rooms'] == 3).sum()\n",
    "greater_than_3 = (abbotsford['Rooms'] > 3).sum()\n",
    "\n",
    "\n",
    "\n",
    "# Prepare data for plotting\n",
    "labels = ['< 3 Rooms',' == 3','> 3 Rooms',]\n",
    "counts = [less_than_3, equal_3, greater_than_3]\n",
    "\n",
    "# Plot\n",
    "plt.figure(figsize=(6,4))\n",
    "plt.bar(labels, counts, color=['skyblue', 'salmon','green'])\n",
    "plt.title('Room Count Distribution in Abbotsford')\n",
    "plt.ylabel('Number of Properties')\n",
    "plt.xlabel('Room Category')\n",
    "plt.grid(axis='y', linestyle='--', alpha=0.7)\n",
    "plt.tight_layout()\n",
    "plt.show()"
   ]
  },
  {
   "cell_type": "markdown",
   "id": "00839e7d-d1b6-4947-b5da-c4d62059172a",
   "metadata": {},
   "source": [
    "#### This bar graph shows the distribution of rooms "
   ]
  },
  {
   "cell_type": "markdown",
   "id": "43f7e250-b561-4ae4-9200-480b13ed7071",
   "metadata": {},
   "source": [
    "### <span style=\"background-color: yellow\"> 5 Question :\n",
    "#### <span style=\"background-color: yellow\"> In the suburb of Abbotsford, what are the chances of finding a property with 2 \n",
    "#### <span style=\"background-color: yellow\"> bathrooms? Round your answer to 3 decimal places. "
   ]
  },
  {
   "cell_type": "code",
   "execution_count": 230,
   "id": "846356c1-47ee-43c8-ad3d-a3d6944f0fc5",
   "metadata": {},
   "outputs": [
    {
     "name": "stdout",
     "output_type": "stream",
     "text": [
      "Probability of finding a property with 2 bathrooms: 0.339\n"
     ]
    }
   ],
   "source": [
    "# Total properties in Abbotsford\n",
    "total_props = len(abbotsford)\n",
    "\n",
    "# Properties with 2 bathrooms\n",
    "two_bath_props = (abbotsford['Bathroom'] == 2).sum()\n",
    "\n",
    "# Calculate probability\n",
    "prob = two_bath_props / total_props\n",
    "print(f\"Probability of finding a property with 2 bathrooms: {prob:.3f}\")\n"
   ]
  },
  {
   "cell_type": "markdown",
   "id": "6b0de264-a6ae-4b4b-ad4d-79441d9d5ccc",
   "metadata": {},
   "source": [
    "### <span style=\"background-color: yellow\"> Solution \n",
    "## <span style=\"background-color: lightGreen\"> Probability of finding a property with 2 bathrooms: 0.339 or 33.9%\n",
    "### <span style=\"background-color: yellow\">  VISUALIZATION FOR probability of getting 1, 2 and  3 bathrooms."
   ]
  },
  {
   "cell_type": "code",
   "execution_count": 76,
   "id": "2f79335c-6913-4415-ae68-5297aa82e2af",
   "metadata": {},
   "outputs": [
    {
     "data": {
      "image/png": "[encoded data removed]",
      "text/plain": [
       "<Figure size 800x500 with 1 Axes>"
      ]
     },
     "metadata": {},
     "output_type": "display_data"
    }
   ],
   "source": [
    "import pandas as pd\n",
    "import matplotlib.pyplot as plt\n",
    "\n",
    "\n",
    "# Count number of properties by bathroom count\n",
    "bathroom_counts = abbotsford['Bathroom'].value_counts().sort_index()\n",
    "\n",
    "# Plot\n",
    "plt.figure(figsize=(8,5))\n",
    "bathroom_counts.plot(kind='bar', color='mediumseagreen')\n",
    "plt.title('Bathroom Count Distribution in Abbotsford')\n",
    "plt.xlabel('Number of Bathrooms')\n",
    "plt.ylabel('Number of Properties')\n",
    "plt.grid(axis='y', linestyle='--', alpha=0.7)\n",
    "plt.tight_layout()\n",
    "plt.show()"
   ]
  },
  {
   "cell_type": "code",
   "execution_count": null,
   "id": "60ce8a01-7889-4085-814a-262b9aad7431",
   "metadata": {},
   "outputs": [],
   "source": []
  },
  {
   "cell_type": "markdown",
   "id": "7e5f1b35-3d05-4fc1-844c-09904e29608c",
   "metadata": {},
   "source": [
    "<div class=\"alert alert-block alert-info\">\n",
    "<b></b> THANK YOU!\n",
    "</div>"
   ]
  },
  {
   "cell_type": "code",
   "execution_count": null,
   "id": "706fb070-9525-4000-bfe4-1322aaad00d1",
   "metadata": {},
   "outputs": [],
   "source": []
  }
 ],
 "metadata": {
  "kernelspec": {
   "display_name": "Python 3 (ipykernel)",
   "language": "python",
   "name": "python3"
  },
  "language_info": {
   "codemirror_mode": {
    "name": "ipython",
    "version": 3
   },
   "file_extension": ".py",
   "mimetype": "text/x-python",
   "name": "python",
   "nbconvert_exporter": "python",
   "pygments_lexer": "ipython3",
   "version": "3.12.7"
  }
 },
 "nbformat": 4,
 "nbformat_minor": 5
}
